{
 "cells": [
  {
   "cell_type": "code",
   "execution_count": null,
   "metadata": {},
   "outputs": [],
   "source": [
    "# Clustering with DBSCAN.ipynb\n",
    "\n",
    "# Import necessary libraries\n",
    "import numpy as np\n",
    "import matplotlib.pyplot as plt\n",
    "from sklearn.datasets import make_moons\n",
    "from sklearn.cluster import DBSCAN\n",
    "\n",
    "# Generate synthetic data (moon-shaped clusters)\n",
    "X, _ = make_moons(n_samples=300, noise=0.05, random_state=0)\n",
    "\n",
    "# Create a DBSCAN instance\n",
    "dbscan = DBSCAN(eps=0.3, min_samples=5)\n",
    "\n",
    "# Fit the DBSCAN model to the data\n",
    "dbscan.fit(X)\n",
    "\n",
    "# Visualize the clustering results\n",
    "labels = dbscan.labels_\n",
    "\n",
    "# Plot the clustered data points\n",
    "unique_labels = set(labels)\n",
    "colors = [plt.cm.Spectral(each) for each in np.linspace(0, 1, len(unique_labels))]\n",
    "\n",
    "for k, col in zip(unique_labels, colors):\n",
    "    if k == -1:\n",
    "        # Black used for noise\n",
    "        col = [0, 0, 0, 1]\n",
    "\n",
    "    class_member_mask = (labels == k)\n",
    "    xy = X[class_member_mask]\n",
    "    plt.scatter(xy[:, 0], xy[:, 1], c=[col], edgecolor='k', s=50)\n",
    "\n",
    "plt.title('DBSCAN Clustering')\n",
    "plt.show()\n"
   ]
  }
 ],
 "metadata": {
  "language_info": {
   "name": "python"
  }
 },
 "nbformat": 4,
 "nbformat_minor": 2
}
